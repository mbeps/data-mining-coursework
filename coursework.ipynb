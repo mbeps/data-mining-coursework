{
 "cells": [
  {
   "cell_type": "code",
   "execution_count": 6,
   "metadata": {},
   "outputs": [],
   "source": [
    "import pandas as pd\n",
    "from adult import *\n",
    "from pandas.core.series import Series"
   ]
  },
  {
   "cell_type": "markdown",
   "metadata": {},
   "source": [
    "# 1. Decision Trees"
   ]
  },
  {
   "cell_type": "code",
   "execution_count": 8,
   "metadata": {},
   "outputs": [
    {
     "name": "stdout",
     "output_type": "stream",
     "text": [
      "Number of instances: 48842\n",
      "Attributes: ['age', 'workclass', 'education', 'education-num', 'marital-status', 'occupation', 'relationship', 'race', 'sex', 'capitalgain', 'capitalloss', 'hoursperweek', 'native-country', 'class']\n",
      "Number of missing values: 6465\n",
      "Columns with missing values: ['workclass', 'occupation', 'native-country']\n",
      "Percentage of Bachelors and Masters degrees: 21.87%\n"
     ]
    }
   ],
   "source": [
    "df: pd.DataFrame = read_csv_1(\"./data/adult.csv\")\n",
    "\n",
    "# Get basic statistics\n",
    "num_instances: int = len(df)\n",
    "attributes: list[str] = df.columns.tolist()\n",
    "missing_count: int = df.isna().sum().sum()\n",
    "cols_with_missing: list[str] = df.columns[df.isna().any()].tolist()\n",
    "\n",
    "# Calculate percentage of Bachelors and Masters degrees\n",
    "education_counts = df['education'].value_counts()\n",
    "bachelors_masters_count: int = education_counts.get('Bachelors', 0) + education_counts.get('Masters', 0)\n",
    "bachelors_masters_pct: float = (bachelors_masters_count / num_instances) * 100\n",
    "\n",
    "# Print the results\n",
    "print(f\"Number of instances: {num_instances}\")\n",
    "print(f\"Attributes: {attributes}\")\n",
    "print(f\"Number of missing values: {missing_count}\")\n",
    "print(f\"Columns with missing values: {cols_with_missing}\")\n",
    "print(f\"Percentage of Bachelors and Masters degrees: {bachelors_masters_pct:.2f}%\")"
   ]
  }
 ],
 "metadata": {
  "kernelspec": {
   "display_name": "data-mining-coursework-hzhGCXrB-py3.10",
   "language": "python",
   "name": "python3"
  },
  "language_info": {
   "codemirror_mode": {
    "name": "ipython",
    "version": 3
   },
   "file_extension": ".py",
   "mimetype": "text/x-python",
   "name": "python",
   "nbconvert_exporter": "python",
   "pygments_lexer": "ipython3",
   "version": "3.10.11"
  }
 },
 "nbformat": 4,
 "nbformat_minor": 2
}
